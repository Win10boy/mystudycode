{
 "cells": [
  {
   "cell_type": "code",
   "execution_count": 1,
   "id": "6df7d2c0",
   "metadata": {},
   "outputs": [],
   "source": [
    "import tensorflow as tf\n",
    "from tensorflow import keras"
   ]
  },
  {
   "cell_type": "code",
   "execution_count": 22,
   "id": "d956637d",
   "metadata": {},
   "outputs": [],
   "source": [
    "class ResidualUnit(keras.layers.Layer):\n",
    "    def __init__(self,filters,strides=1,activation='relu',**kwargs):\n",
    "        super().__init__(**kwargs) # 그외 매개변수를 사용할 수 있도록 함(필수)\n",
    "        self.activation = keras.activations.get(activation)\n",
    "        self.main_layers = [\n",
    "            keras.layers.Conv2D(filters,3,strides=strides,padding='same',use_bias=False), # 여기서 스트라이드는 필터 갯수의 변동에 따라 유동적임\n",
    "            keras.layers.BatchNormalization(),\n",
    "            self.activation,\n",
    "            keras.layers.Conv2D(filters,3,strides=1,padding='same',use_bias=False), # 여기서 스트라이드는 고정시켜줘야 함\n",
    "            keras.layers.BatchNormalization()\n",
    "        ]\n",
    "        self.skip_layers = [] # stides가 1일 때는 그대로 인풋이 더해지도록 하기 위함\n",
    "        if strides > 1 : # 필터의 갯수가 바뀔 때 스트라이드가 2가 됨. 그리고 스킵연결은 다음과 같이 변함\n",
    "            self.skip_layers = [\n",
    "                keras.layers.Conv2D(filters,1,strides=strides,padding='same',use_bias=False),\n",
    "                keras.layers.BatchNormalization()\n",
    "            ]\n",
    "    def call(self, inputs):\n",
    "        Z = inputs\n",
    "        for layers in self.main_layers:\n",
    "            Z = layers(Z)\n",
    "        skip_Z  = inputs\n",
    "        for layers in self.skip_layers:\n",
    "            skip_Z = layers(skip_Z)\n",
    "        return self.activation(Z + skip_Z)"
   ]
  },
  {
   "cell_type": "code",
   "execution_count": 23,
   "id": "09a16395",
   "metadata": {},
   "outputs": [],
   "source": [
    "model = keras.models.Sequential()\n",
    "model.add(keras.layers.Conv2D(64,7,strides=2,padding='same',input_shape=[32,32,3],use_bias=False))\n",
    "model.add(keras.layers.BatchNormalization())\n",
    "model.add(keras.layers.Activation('relu'))\n",
    "model.add(keras.layers.MaxPooling2D(pool_size=3,strides=2,padding='same'))\n",
    "\n",
    "prev_filters = 64\n",
    "for filters in [64] * 3 + [128] * 4 + [256] * 6 + [512] * 3:\n",
    "    # 필터의 크기가 변할 때 잔차유닛 첫번째 레이어의 스트라이드가 2가 됨. 동시에 스킵연결 시에 스킵연결을 거치게 됨\n",
    "    strides= 1 if prev_filters == filters else 2 \n",
    "    model.add(ResidualUnit(filters, strides = strides)) \n",
    "    prev_filters = filters\n",
    "\n",
    "model.add(keras.layers.GlobalAveragePooling2D())\n",
    "model.add(keras.layers.Flatten())\n",
    "model.add(keras.layers.Dense(1000))\n",
    "model.add(keras.layers.Dense(10, activation='softmax'))"
   ]
  },
  {
   "cell_type": "code",
   "execution_count": 24,
   "id": "8532c018",
   "metadata": {},
   "outputs": [],
   "source": [
    "model.compile(loss='sparse_categorical_crossentropy',optimizer='adam',metrics=['accuracy'])"
   ]
  },
  {
   "cell_type": "code",
   "execution_count": 25,
   "id": "b1be9575",
   "metadata": {},
   "outputs": [
    {
     "name": "stdout",
     "output_type": "stream",
     "text": [
      "Model: \"sequential_10\"\n",
      "_________________________________________________________________\n",
      " Layer (type)                Output Shape              Param #   \n",
      "=================================================================\n",
      " conv2d_108 (Conv2D)         (None, 16, 16, 64)        9408      \n",
      "                                                                 \n",
      " batch_normalization_107 (Ba  (None, 16, 16, 64)       256       \n",
      " tchNormalization)                                               \n",
      "                                                                 \n",
      " activation_9 (Activation)   (None, 16, 16, 64)        0         \n",
      "                                                                 \n",
      " max_pooling2d_9 (MaxPooling  (None, 8, 8, 64)         0         \n",
      " 2D)                                                             \n",
      "                                                                 \n",
      " residual_unit_45 (ResidualU  (None, 8, 8, 64)         74240     \n",
      " nit)                                                            \n",
      "                                                                 \n",
      " residual_unit_46 (ResidualU  (None, 8, 8, 64)         74240     \n",
      " nit)                                                            \n",
      "                                                                 \n",
      " residual_unit_47 (ResidualU  (None, 8, 8, 64)         74240     \n",
      " nit)                                                            \n",
      "                                                                 \n",
      " residual_unit_48 (ResidualU  (None, 4, 4, 128)        230912    \n",
      " nit)                                                            \n",
      "                                                                 \n",
      " residual_unit_49 (ResidualU  (None, 4, 4, 128)        295936    \n",
      " nit)                                                            \n",
      "                                                                 \n",
      " residual_unit_50 (ResidualU  (None, 4, 4, 128)        295936    \n",
      " nit)                                                            \n",
      "                                                                 \n",
      " residual_unit_51 (ResidualU  (None, 4, 4, 128)        295936    \n",
      " nit)                                                            \n",
      "                                                                 \n",
      " residual_unit_52 (ResidualU  (None, 2, 2, 256)        920576    \n",
      " nit)                                                            \n",
      "                                                                 \n",
      " residual_unit_53 (ResidualU  (None, 2, 2, 256)        1181696   \n",
      " nit)                                                            \n",
      "                                                                 \n",
      " residual_unit_54 (ResidualU  (None, 2, 2, 256)        1181696   \n",
      " nit)                                                            \n",
      "                                                                 \n",
      " residual_unit_55 (ResidualU  (None, 2, 2, 256)        1181696   \n",
      " nit)                                                            \n",
      "                                                                 \n",
      " residual_unit_56 (ResidualU  (None, 2, 2, 256)        1181696   \n",
      " nit)                                                            \n",
      "                                                                 \n",
      " residual_unit_57 (ResidualU  (None, 2, 2, 256)        1181696   \n",
      " nit)                                                            \n",
      "                                                                 \n",
      " residual_unit_58 (ResidualU  (None, 1, 1, 512)        3676160   \n",
      " nit)                                                            \n",
      "                                                                 \n",
      " residual_unit_59 (ResidualU  (None, 1, 1, 512)        4722688   \n",
      " nit)                                                            \n",
      "                                                                 \n",
      " residual_unit_60 (ResidualU  (None, 1, 1, 512)        4722688   \n",
      " nit)                                                            \n",
      "                                                                 \n",
      " global_average_pooling2d_1   (None, 512)              0         \n",
      " (GlobalAveragePooling2D)                                        \n",
      "                                                                 \n",
      " flatten_1 (Flatten)         (None, 512)               0         \n",
      "                                                                 \n",
      " dense_2 (Dense)             (None, 1000)              513000    \n",
      "                                                                 \n",
      " dense_3 (Dense)             (None, 10)                10010     \n",
      "                                                                 \n",
      "=================================================================\n",
      "Total params: 21,824,706\n",
      "Trainable params: 21,807,682\n",
      "Non-trainable params: 17,024\n",
      "_________________________________________________________________\n"
     ]
    }
   ],
   "source": [
    "model.summary()"
   ]
  },
  {
   "cell_type": "code",
   "execution_count": null,
   "id": "a08e3b4f",
   "metadata": {},
   "outputs": [],
   "source": []
  }
 ],
 "metadata": {
  "kernelspec": {
   "display_name": "Python 3",
   "language": "python",
   "name": "python3"
  },
  "language_info": {
   "codemirror_mode": {
    "name": "ipython",
    "version": 3
   },
   "file_extension": ".py",
   "mimetype": "text/x-python",
   "name": "python",
   "nbconvert_exporter": "python",
   "pygments_lexer": "ipython3",
   "version": "3.8.12"
  }
 },
 "nbformat": 4,
 "nbformat_minor": 5
}

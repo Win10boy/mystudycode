{
 "cells": [
  {
   "cell_type": "markdown",
   "id": "847f6f9f",
   "metadata": {},
   "source": [
    "+ RNN의 문제점\n",
    "    * 단기 기억 문제 : RNN을 거치면서 데이터가 변환되므로 일부 정보는 매 훈련 스텝 후 사라짐.\n",
    "    * 어느 정도 시간이 지나면 RNN의 상태는 사실상 첫 번째 입력의 흔적을 가지고 있지 않게 됨.\n",
    "+ 해결책\n",
    "    * 장기 메모리를 가진 여러 종류의 셀이 연구됨. ex) LSTM, GRU\n",
    "    * 이런 장기메로리르 가진 셀들의 성능은 매우 뛰어나 기본 셀은 사용하지 않게 됨."
   ]
  },
  {
   "cell_type": "code",
   "execution_count": 1,
   "id": "66947f00",
   "metadata": {},
   "outputs": [],
   "source": [
    "import tensorflow as tf\n",
    "from tensorflow import keras"
   ]
  },
  {
   "cell_type": "code",
   "execution_count": 2,
   "id": "1598de9d",
   "metadata": {},
   "outputs": [],
   "source": [
    "model = keras.models.Sequential([\n",
    "    keras.layers.LSTM(20, return_sequences = True, input_shape=[None,1]),\n",
    "    keras.layers.LSTM(20, return_sequences = True),\n",
    "    keras.layers.TimeDistributed(keras.layers.Dense(10))\n",
    "])\n"
   ]
  },
  {
   "cell_type": "markdown",
   "id": "460685fa",
   "metadata": {},
   "source": [
    "+ LSTM\n",
    "    * 핵심아이디어는 네트워크가 장기 상태에 저장할 것과 버릴 것, 읽어들일 것을 학습함\n",
    "    * h(t) = short-term state\n",
    "    * c(t) = long-term state\n",
    "    * f(t), g(t), i(t), o(t) = gate controller\n",
    "    * gate controller f(t)에 의해 제어되는 삭제게이트는 c(t-1)에서 삭제해야할 기억의 일부를 삭제함.\n",
    "    * g(t)는 h(t-1)와 입력 x(t)를 분석하고, i(t)는 g(t)의 어느 부분이 장기 상태에 더해야져야하는지 제어함.\n",
    "        * 즉 g(t)와 i(t)는 단기 상태와 입력의 중요한 기억 선별하는 역할을 수행함.(입력 게이트)\n",
    "    * 입력 게이트를 거친 기억은 c(t-1)의 새로운 기억으로 추가됨. 그리고 이는 바로 출력되어 c(t)가 됨.\n",
    "    * 새로운 기억이 추가된 c(t-1)은 복사되어 하이퍼볼릭 탄젠트 활성화함수를 거침.\n",
    "    * h(t-1)과 x(t)와 연결된 gate controller o(t)는 활성화함수를 거친 tanh(c(t-1))의 어느 부분을 읽어서 \n",
    "    * 이 타임 스텝의 h(t)와 y(t)를 출력함."
   ]
  },
  {
   "cell_type": "markdown",
   "id": "cb8a564c",
   "metadata": {},
   "source": [
    "+ LSTM의 변종 : GRU\n",
    "    * LSTM의 간소화된 버전 but 작동은 유사하게됨."
   ]
  },
  {
   "cell_type": "code",
   "execution_count": null,
   "id": "aafe6ad6",
   "metadata": {},
   "outputs": [],
   "source": []
  }
 ],
 "metadata": {
  "kernelspec": {
   "display_name": "Python 3",
   "language": "python",
   "name": "python3"
  },
  "language_info": {
   "codemirror_mode": {
    "name": "ipython",
    "version": 3
   },
   "file_extension": ".py",
   "mimetype": "text/x-python",
   "name": "python",
   "nbconvert_exporter": "python",
   "pygments_lexer": "ipython3",
   "version": "3.8.12"
  }
 },
 "nbformat": 4,
 "nbformat_minor": 5
}
